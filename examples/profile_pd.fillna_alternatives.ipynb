{
 "cells": [
  {
   "cell_type": "markdown",
   "metadata": {},
   "source": [
    " ## Profiling faster alternatives to DataFrame.drop\n",
    "\n",
    "What?\n",
    "For e.g. LogTransformer, dropping the original column is one of the slower operations. Would be good to look into faster alternatives, e.g. df.columns.isin(wanted_columns)\n",
    "\n",
    "Why?\n",
    "Speed up tubular\n",
    "\n",
    "How?\n",
    "Explore alternatives to pd.DataFrame.drop, profile candidates to confirm efficiency benefits"
   ]
  },
  {
   "cell_type": "code",
   "execution_count": 1,
   "metadata": {},
   "outputs": [],
   "source": [
    "import pandas as pd\n",
    "import numpy as np\n",
    "import time"
   ]
  },
  {
   "cell_type": "markdown",
   "metadata": {},
   "source": [
    "We'll be profiling df.drop as well as two alternatives: df.columns.isin and df.filter in this notebook. Profiling will be done in terms of the average time taken over 50 runs by each approach. We'll be using a randomly generated DataFrame with 1 million rows and 100 columns for each run. The first 10 columns will be used for dropping purpose"
   ]
  },
  {
   "cell_type": "code",
   "execution_count": 2,
   "metadata": {},
   "outputs": [],
   "source": [
    "np.random.seed(0)  # For reproducibility\n",
    "\n",
    "# Columns to be dropped\n",
    "cols_to_drop = [f'col_{i}' for i in range(10)]\n",
    "cols_to_keep = [f'col_{i}' for i in range(10,100)]\n",
    "\n",
    "# Initialize accumulators for time measurements\n",
    "total_time_drop = 0\n",
    "total_time_isin = 0\n",
    "total_time_filter = 0\n",
    "total_time_del = 0\n",
    "\n",
    "runs = 50  # Number of runs"
   ]
  },
  {
   "cell_type": "code",
   "execution_count": 3,
   "metadata": {
    "tags": [
     "keep"
    ]
   },
   "outputs": [
    {
     "name": "stdout",
     "output_type": "stream",
     "text": [
      "Average time taken for drop across 50 iterations:  0.1302215051651001\n",
      "Average time taken for isin across 50 iterations:  0.1303914499282837\n",
      "Average time taken for average_time_filter across 50 iterations:  0.12967921733856203\n",
      "Average time taken for del across 50 iterations:  0.00010490894317626953\n"
     ]
    }
   ],
   "source": [
    "for _ in range(runs):\n",
    "    # Regenerate DataFrame with 1 million rows and 100 columns for each run\n",
    "    df = pd.DataFrame(np.random.rand(1000000, 100), columns=[f'col_{i}' for i in range(100)])\n",
    "\n",
    "    # Measure time for DataFrame.drop()\n",
    "    start_time_drop = time.time()\n",
    "    df.drop(cols_to_drop, axis=1)\n",
    "    total_time_drop += time.time() - start_time_drop\n",
    "\n",
    "    # Measure time for Columns.isin()\n",
    "    start_time_isin = time.time()\n",
    "    df.loc[:, df.columns.isin(cols_to_keep)]\n",
    "    total_time_isin += time.time() - start_time_isin\n",
    "\n",
    "    # Measure time for DataFrame.filter()\n",
    "    start_time_filter = time.time()\n",
    "    df.filter(items=cols_to_keep)\n",
    "    total_time_filter += time.time() - start_time_filter\n",
    "\n",
    "    # del statement to drop columns from DataFrame\n",
    "    start_time_del = time.time()\n",
    "    for col in cols_to_drop:\n",
    "        del df[col]\n",
    "    total_time_del = time.time() - start_time_del\n",
    "\n",
    "# Calculate average times\n",
    "average_time_drop = total_time_drop / runs\n",
    "average_time_isin = total_time_isin / runs\n",
    "average_time_filter = total_time_filter / runs\n",
    "average_time_del = total_time_del / runs\n",
    "\n",
    "print(\"Average time taken for drop across 50 iterations: \", average_time_drop)\n",
    "print(\"Average time taken for isin across 50 iterations: \", average_time_isin)\n",
    "print(\"Average time taken for average_time_filter across 50 iterations: \", average_time_filter)\n",
    "print(\"Average time taken for del across 50 iterations: \", average_time_del)"
   ]
  }
 ],
 "metadata": {
  "kernelspec": {
   "display_name": "Python 3",
   "language": "python",
   "name": "python3"
  },
  "language_info": {
   "codemirror_mode": {
    "name": "ipython",
    "version": 3
   },
   "file_extension": ".py",
   "mimetype": "text/x-python",
   "name": "python",
   "nbconvert_exporter": "python",
   "pygments_lexer": "ipython3",
   "version": "3.8.17"
  }
 },
 "nbformat": 4,
 "nbformat_minor": 2
}
