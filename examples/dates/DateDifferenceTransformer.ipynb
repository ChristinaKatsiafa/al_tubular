{
 "cells": [
  {
   "cell_type": "markdown",
   "metadata": {
    "toc": true
   },
   "source": [
    "<h1>Table of Contents<span class=\"tocSkip\"></span></h1>\n",
    "<div class=\"toc\"><ul class=\"toc-item\"><li><span><a href=\"#DateDiffTransformer\" data-toc-modified-id=\"DateDiffTransformer-1\"><span class=\"toc-item-num\">1&nbsp;&nbsp;</span>DateDiffTransformer</a></span><ul class=\"toc-item\"><li><span><a href=\"#Create-and-Load-datetime-data\" data-toc-modified-id=\"Create-and-Load-datetime-data-1.1\"><span class=\"toc-item-num\">1.1&nbsp;&nbsp;</span>Create and Load datetime data</a></span></li><li><span><a href=\"#Usage\" data-toc-modified-id=\"Usage-1.2\"><span class=\"toc-item-num\">1.2&nbsp;&nbsp;</span>Usage</a></span><ul class=\"toc-item\"><li><span><a href=\"#Years\" data-toc-modified-id=\"Years-1.2.1\"><span class=\"toc-item-num\">1.2.1&nbsp;&nbsp;</span>Years</a></span></li><li><span><a href=\"#Months\" data-toc-modified-id=\"Months-1.2.2\"><span class=\"toc-item-num\">1.2.2&nbsp;&nbsp;</span>Months</a></span></li><li><span><a href=\"#Days\" data-toc-modified-id=\"Days-1.2.3\"><span class=\"toc-item-num\">1.2.3&nbsp;&nbsp;</span>Days</a></span></li><li><span><a href=\"#Hours\" data-toc-modified-id=\"Hours-1.2.4\"><span class=\"toc-item-num\">1.2.4&nbsp;&nbsp;</span>Hours</a></span></li><li><span><a href=\"#Minutes\" data-toc-modified-id=\"Minutes-1.2.5\"><span class=\"toc-item-num\">1.2.5&nbsp;&nbsp;</span>Minutes</a></span></li><li><span><a href=\"#Seconds\" data-toc-modified-id=\"Seconds-1.2.6\"><span class=\"toc-item-num\">1.2.6&nbsp;&nbsp;</span>Seconds</a></span></li></ul></li></ul></li></ul></div>"
   ]
  },
  {
   "cell_type": "markdown",
   "metadata": {},
   "source": [
    "# DateDiffTransformer\n",
    "This notebook shows the functionality in the `DateDifferenceTransformer` class. This transformer calculates the difference between 2 date fields in specified units"
   ]
  },
  {
   "cell_type": "code",
   "execution_count": 1,
   "metadata": {
    "ExecuteTime": {
     "end_time": "2020-12-07T17:17:54.101449Z",
     "start_time": "2020-12-07T17:17:53.471428Z"
    }
   },
   "outputs": [],
   "source": [
    "import datetime\n",
    "import pandas as pd\n",
    "import numpy as np"
   ]
  },
  {
   "cell_type": "code",
   "execution_count": 2,
   "metadata": {
    "ExecuteTime": {
     "end_time": "2020-12-07T17:17:55.040377Z",
     "start_time": "2020-12-07T17:17:54.104382Z"
    }
   },
   "outputs": [],
   "source": [
    "import tubular\n",
    "from tubular.dates import DateDifferenceTransformer"
   ]
  },
  {
   "cell_type": "code",
   "execution_count": 3,
   "metadata": {
    "ExecuteTime": {
     "end_time": "2020-12-07T17:17:55.056385Z",
     "start_time": "2020-12-07T17:17:55.042374Z"
    }
   },
   "outputs": [
    {
     "data": {
      "text/plain": [
       "'0.2.8'"
      ]
     },
     "execution_count": 3,
     "metadata": {},
     "output_type": "execute_result"
    }
   ],
   "source": [
    "tubular.__version__"
   ]
  },
  {
   "cell_type": "markdown",
   "metadata": {},
   "source": [
    "## Create and Load datetime data"
   ]
  },
  {
   "cell_type": "code",
   "execution_count": 4,
   "metadata": {
    "ExecuteTime": {
     "end_time": "2020-12-07T17:17:55.091383Z",
     "start_time": "2020-12-07T17:17:55.058376Z"
    }
   },
   "outputs": [],
   "source": [
    "def create_datetime_data():\n",
    "    \n",
    "    seconds_1 = np.random.randint(0, 59, 10)\n",
    "    mins_1 = np.random.randint(0, 59, 10)\n",
    "    hours_1 = np.random.randint(0, 23, 10)\n",
    "    days_1 = np.random.randint(1, 29, 10)\n",
    "    months_1 = np.random.randint(1, 13, 10)\n",
    "    years_1 = np.random.randint(1970, 2000, 10)\n",
    "\n",
    "    seconds_2 = np.random.randint(0, 59, 10)\n",
    "    mins_2 = np.random.randint(0, 59, 10)\n",
    "    hours_2 = np.random.randint(0, 23, 10)\n",
    "    days_2 = np.random.randint(1, 29, 10)\n",
    "    months_2 = np.random.randint(1, 13, 10)\n",
    "    years_2 = np.random.randint(2010, 2020, 10)\n",
    "    \n",
    "    date_1 = [datetime.datetime(a, b, c, x, y, z) for a, b, c, x, y, z in zip(years_1, months_1, days_1, hours_1, mins_1, seconds_1)]\n",
    "    date_2 = [datetime.datetime(a, b, c, x, y, z) for a, b, c, x, y, z in zip(years_2, months_2, days_2, hours_2, mins_2, seconds_2)]\n",
    "    \n",
    "    data = pd.DataFrame({\"date_of_birth\": date_1, \"sale_date\": date_2})\n",
    "    \n",
    "    return data"
   ]
  },
  {
   "cell_type": "code",
   "execution_count": 5,
   "metadata": {
    "ExecuteTime": {
     "end_time": "2020-12-07T17:17:55.114443Z",
     "start_time": "2020-12-07T17:17:55.094413Z"
    }
   },
   "outputs": [],
   "source": [
    "datetime_data = create_datetime_data()"
   ]
  },
  {
   "cell_type": "code",
   "execution_count": 6,
   "metadata": {
    "ExecuteTime": {
     "end_time": "2020-12-07T17:17:55.156409Z",
     "start_time": "2020-12-07T17:17:55.116383Z"
    }
   },
   "outputs": [
    {
     "data": {
      "text/html": [
       "<div>\n",
       "<style scoped>\n",
       "    .dataframe tbody tr th:only-of-type {\n",
       "        vertical-align: middle;\n",
       "    }\n",
       "\n",
       "    .dataframe tbody tr th {\n",
       "        vertical-align: top;\n",
       "    }\n",
       "\n",
       "    .dataframe thead th {\n",
       "        text-align: right;\n",
       "    }\n",
       "</style>\n",
       "<table border=\"1\" class=\"dataframe\">\n",
       "  <thead>\n",
       "    <tr style=\"text-align: right;\">\n",
       "      <th></th>\n",
       "      <th>date_of_birth</th>\n",
       "      <th>sale_date</th>\n",
       "    </tr>\n",
       "  </thead>\n",
       "  <tbody>\n",
       "    <tr>\n",
       "      <th>0</th>\n",
       "      <td>1997-05-27 12:16:24</td>\n",
       "      <td>2010-09-16 10:48:20</td>\n",
       "    </tr>\n",
       "    <tr>\n",
       "      <th>1</th>\n",
       "      <td>1989-05-22 00:09:46</td>\n",
       "      <td>2015-11-11 18:02:58</td>\n",
       "    </tr>\n",
       "    <tr>\n",
       "      <th>2</th>\n",
       "      <td>1983-04-13 17:10:49</td>\n",
       "      <td>2015-06-09 19:58:49</td>\n",
       "    </tr>\n",
       "    <tr>\n",
       "      <th>3</th>\n",
       "      <td>1983-10-11 02:16:11</td>\n",
       "      <td>2014-11-19 04:16:35</td>\n",
       "    </tr>\n",
       "    <tr>\n",
       "      <th>4</th>\n",
       "      <td>1986-02-19 15:04:47</td>\n",
       "      <td>2018-10-10 06:18:31</td>\n",
       "    </tr>\n",
       "    <tr>\n",
       "      <th>5</th>\n",
       "      <td>1987-02-16 09:23:41</td>\n",
       "      <td>2014-01-22 19:07:31</td>\n",
       "    </tr>\n",
       "    <tr>\n",
       "      <th>6</th>\n",
       "      <td>1993-06-13 09:06:02</td>\n",
       "      <td>2012-03-01 03:13:02</td>\n",
       "    </tr>\n",
       "    <tr>\n",
       "      <th>7</th>\n",
       "      <td>1989-10-20 04:00:33</td>\n",
       "      <td>2016-02-07 02:22:19</td>\n",
       "    </tr>\n",
       "    <tr>\n",
       "      <th>8</th>\n",
       "      <td>1983-06-28 08:41:02</td>\n",
       "      <td>2014-05-24 15:31:30</td>\n",
       "    </tr>\n",
       "    <tr>\n",
       "      <th>9</th>\n",
       "      <td>1988-01-06 00:27:23</td>\n",
       "      <td>2012-03-16 16:13:11</td>\n",
       "    </tr>\n",
       "  </tbody>\n",
       "</table>\n",
       "</div>"
      ],
      "text/plain": [
       "        date_of_birth           sale_date\n",
       "0 1997-05-27 12:16:24 2010-09-16 10:48:20\n",
       "1 1989-05-22 00:09:46 2015-11-11 18:02:58\n",
       "2 1983-04-13 17:10:49 2015-06-09 19:58:49\n",
       "3 1983-10-11 02:16:11 2014-11-19 04:16:35\n",
       "4 1986-02-19 15:04:47 2018-10-10 06:18:31\n",
       "5 1987-02-16 09:23:41 2014-01-22 19:07:31\n",
       "6 1993-06-13 09:06:02 2012-03-01 03:13:02\n",
       "7 1989-10-20 04:00:33 2016-02-07 02:22:19\n",
       "8 1983-06-28 08:41:02 2014-05-24 15:31:30\n",
       "9 1988-01-06 00:27:23 2012-03-16 16:13:11"
      ]
     },
     "execution_count": 6,
     "metadata": {},
     "output_type": "execute_result"
    }
   ],
   "source": [
    "datetime_data"
   ]
  },
  {
   "cell_type": "code",
   "execution_count": 7,
   "metadata": {
    "ExecuteTime": {
     "end_time": "2020-12-07T17:17:55.173419Z",
     "start_time": "2020-12-07T17:17:55.159408Z"
    }
   },
   "outputs": [
    {
     "data": {
      "text/plain": [
       "date_of_birth    datetime64[ns]\n",
       "sale_date        datetime64[ns]\n",
       "dtype: object"
      ]
     },
     "execution_count": 7,
     "metadata": {},
     "output_type": "execute_result"
    }
   ],
   "source": [
    "datetime_data.dtypes"
   ]
  },
  {
   "cell_type": "markdown",
   "metadata": {},
   "source": [
    "## Usage\n",
    "The transformer requires 4 arguments:\n",
    "- `column_lower`: the datetime column that is being subtracted.\n",
    "- `column_upper`: the datetime column that is subtracted from.\n",
    "- `new_column_name`: the name of the new age column.\n",
    "- `units`: the time units: 'Y', 'M', 'D', 'h', 'm' or 's'"
   ]
  },
  {
   "cell_type": "markdown",
   "metadata": {},
   "source": [
    "### Years"
   ]
  },
  {
   "cell_type": "code",
   "execution_count": 8,
   "metadata": {
    "ExecuteTime": {
     "end_time": "2020-12-07T17:17:55.192378Z",
     "start_time": "2020-12-07T17:17:55.175384Z"
    }
   },
   "outputs": [],
   "source": [
    "date_difference_transformer = DateDifferenceTransformer(\n",
    "    column_lower=\"date_of_birth\",\n",
    "    column_upper=\"sale_date\",\n",
    "    new_column_name=\"years\",\n",
    "    units='Y',\n",
    ")"
   ]
  },
  {
   "cell_type": "code",
   "execution_count": 9,
   "metadata": {
    "ExecuteTime": {
     "end_time": "2020-12-07T17:17:55.234452Z",
     "start_time": "2020-12-07T17:17:55.195375Z"
    }
   },
   "outputs": [],
   "source": [
    "transformed_data_years = date_difference_transformer.transform(datetime_data)"
   ]
  },
  {
   "cell_type": "code",
   "execution_count": 10,
   "metadata": {
    "ExecuteTime": {
     "end_time": "2020-12-07T17:17:55.259377Z",
     "start_time": "2020-12-07T17:17:55.236374Z"
    }
   },
   "outputs": [
    {
     "data": {
      "text/html": [
       "<div>\n",
       "<style scoped>\n",
       "    .dataframe tbody tr th:only-of-type {\n",
       "        vertical-align: middle;\n",
       "    }\n",
       "\n",
       "    .dataframe tbody tr th {\n",
       "        vertical-align: top;\n",
       "    }\n",
       "\n",
       "    .dataframe thead th {\n",
       "        text-align: right;\n",
       "    }\n",
       "</style>\n",
       "<table border=\"1\" class=\"dataframe\">\n",
       "  <thead>\n",
       "    <tr style=\"text-align: right;\">\n",
       "      <th></th>\n",
       "      <th>date_of_birth</th>\n",
       "      <th>sale_date</th>\n",
       "      <th>years</th>\n",
       "    </tr>\n",
       "  </thead>\n",
       "  <tbody>\n",
       "    <tr>\n",
       "      <th>0</th>\n",
       "      <td>1997-05-27 12:16:24</td>\n",
       "      <td>2010-09-16 10:48:20</td>\n",
       "      <td>13.306061</td>\n",
       "    </tr>\n",
       "    <tr>\n",
       "      <th>1</th>\n",
       "      <td>1989-05-22 00:09:46</td>\n",
       "      <td>2015-11-11 18:02:58</td>\n",
       "      <td>26.474863</td>\n",
       "    </tr>\n",
       "    <tr>\n",
       "      <th>2</th>\n",
       "      <td>1983-04-13 17:10:49</td>\n",
       "      <td>2015-06-09 19:58:49</td>\n",
       "      <td>32.157037</td>\n",
       "    </tr>\n",
       "    <tr>\n",
       "      <th>3</th>\n",
       "      <td>1983-10-11 02:16:11</td>\n",
       "      <td>2014-11-19 04:16:35</td>\n",
       "      <td>31.108328</td>\n",
       "    </tr>\n",
       "    <tr>\n",
       "      <th>4</th>\n",
       "      <td>1986-02-19 15:04:47</td>\n",
       "      <td>2018-10-10 06:18:31</td>\n",
       "      <td>32.637589</td>\n",
       "    </tr>\n",
       "    <tr>\n",
       "      <th>5</th>\n",
       "      <td>1987-02-16 09:23:41</td>\n",
       "      <td>2014-01-22 19:07:31</td>\n",
       "      <td>26.933901</td>\n",
       "    </tr>\n",
       "    <tr>\n",
       "      <th>6</th>\n",
       "      <td>1993-06-13 09:06:02</td>\n",
       "      <td>2012-03-01 03:13:02</td>\n",
       "      <td>18.715661</td>\n",
       "    </tr>\n",
       "    <tr>\n",
       "      <th>7</th>\n",
       "      <td>1989-10-20 04:00:33</td>\n",
       "      <td>2016-02-07 02:22:19</td>\n",
       "      <td>26.300148</td>\n",
       "    </tr>\n",
       "    <tr>\n",
       "      <th>8</th>\n",
       "      <td>1983-06-28 08:41:02</td>\n",
       "      <td>2014-05-24 15:31:30</td>\n",
       "      <td>30.906275</td>\n",
       "    </tr>\n",
       "    <tr>\n",
       "      <th>9</th>\n",
       "      <td>1988-01-06 00:27:23</td>\n",
       "      <td>2012-03-16 16:13:11</td>\n",
       "      <td>24.193945</td>\n",
       "    </tr>\n",
       "  </tbody>\n",
       "</table>\n",
       "</div>"
      ],
      "text/plain": [
       "        date_of_birth           sale_date      years\n",
       "0 1997-05-27 12:16:24 2010-09-16 10:48:20  13.306061\n",
       "1 1989-05-22 00:09:46 2015-11-11 18:02:58  26.474863\n",
       "2 1983-04-13 17:10:49 2015-06-09 19:58:49  32.157037\n",
       "3 1983-10-11 02:16:11 2014-11-19 04:16:35  31.108328\n",
       "4 1986-02-19 15:04:47 2018-10-10 06:18:31  32.637589\n",
       "5 1987-02-16 09:23:41 2014-01-22 19:07:31  26.933901\n",
       "6 1993-06-13 09:06:02 2012-03-01 03:13:02  18.715661\n",
       "7 1989-10-20 04:00:33 2016-02-07 02:22:19  26.300148\n",
       "8 1983-06-28 08:41:02 2014-05-24 15:31:30  30.906275\n",
       "9 1988-01-06 00:27:23 2012-03-16 16:13:11  24.193945"
      ]
     },
     "execution_count": 10,
     "metadata": {},
     "output_type": "execute_result"
    }
   ],
   "source": [
    "transformed_data_years"
   ]
  },
  {
   "cell_type": "markdown",
   "metadata": {},
   "source": [
    "### Months"
   ]
  },
  {
   "cell_type": "code",
   "execution_count": 11,
   "metadata": {
    "ExecuteTime": {
     "end_time": "2020-12-07T17:17:55.279382Z",
     "start_time": "2020-12-07T17:17:55.261380Z"
    }
   },
   "outputs": [],
   "source": [
    "date_difference_transformer = DateDifferenceTransformer(\n",
    "    column_lower=\"date_of_birth\",\n",
    "    column_upper=\"sale_date\",\n",
    "    new_column_name=\"months\",\n",
    "    units='M',\n",
    ")"
   ]
  },
  {
   "cell_type": "code",
   "execution_count": 12,
   "metadata": {
    "ExecuteTime": {
     "end_time": "2020-12-07T17:17:55.303377Z",
     "start_time": "2020-12-07T17:17:55.281377Z"
    }
   },
   "outputs": [],
   "source": [
    "transformed_data_months = date_difference_transformer.transform(transformed_data_years)"
   ]
  },
  {
   "cell_type": "code",
   "execution_count": 13,
   "metadata": {
    "ExecuteTime": {
     "end_time": "2020-12-07T17:17:55.329377Z",
     "start_time": "2020-12-07T17:17:55.305394Z"
    }
   },
   "outputs": [
    {
     "data": {
      "text/html": [
       "<div>\n",
       "<style scoped>\n",
       "    .dataframe tbody tr th:only-of-type {\n",
       "        vertical-align: middle;\n",
       "    }\n",
       "\n",
       "    .dataframe tbody tr th {\n",
       "        vertical-align: top;\n",
       "    }\n",
       "\n",
       "    .dataframe thead th {\n",
       "        text-align: right;\n",
       "    }\n",
       "</style>\n",
       "<table border=\"1\" class=\"dataframe\">\n",
       "  <thead>\n",
       "    <tr style=\"text-align: right;\">\n",
       "      <th></th>\n",
       "      <th>date_of_birth</th>\n",
       "      <th>sale_date</th>\n",
       "      <th>years</th>\n",
       "      <th>months</th>\n",
       "    </tr>\n",
       "  </thead>\n",
       "  <tbody>\n",
       "    <tr>\n",
       "      <th>0</th>\n",
       "      <td>1997-05-27 12:16:24</td>\n",
       "      <td>2010-09-16 10:48:20</td>\n",
       "      <td>13.306061</td>\n",
       "      <td>159.672727</td>\n",
       "    </tr>\n",
       "    <tr>\n",
       "      <th>1</th>\n",
       "      <td>1989-05-22 00:09:46</td>\n",
       "      <td>2015-11-11 18:02:58</td>\n",
       "      <td>26.474863</td>\n",
       "      <td>317.698360</td>\n",
       "    </tr>\n",
       "    <tr>\n",
       "      <th>2</th>\n",
       "      <td>1983-04-13 17:10:49</td>\n",
       "      <td>2015-06-09 19:58:49</td>\n",
       "      <td>32.157037</td>\n",
       "      <td>385.884447</td>\n",
       "    </tr>\n",
       "    <tr>\n",
       "      <th>3</th>\n",
       "      <td>1983-10-11 02:16:11</td>\n",
       "      <td>2014-11-19 04:16:35</td>\n",
       "      <td>31.108328</td>\n",
       "      <td>373.299940</td>\n",
       "    </tr>\n",
       "    <tr>\n",
       "      <th>4</th>\n",
       "      <td>1986-02-19 15:04:47</td>\n",
       "      <td>2018-10-10 06:18:31</td>\n",
       "      <td>32.637589</td>\n",
       "      <td>391.651066</td>\n",
       "    </tr>\n",
       "    <tr>\n",
       "      <th>5</th>\n",
       "      <td>1987-02-16 09:23:41</td>\n",
       "      <td>2014-01-22 19:07:31</td>\n",
       "      <td>26.933901</td>\n",
       "      <td>323.206815</td>\n",
       "    </tr>\n",
       "    <tr>\n",
       "      <th>6</th>\n",
       "      <td>1993-06-13 09:06:02</td>\n",
       "      <td>2012-03-01 03:13:02</td>\n",
       "      <td>18.715661</td>\n",
       "      <td>224.587934</td>\n",
       "    </tr>\n",
       "    <tr>\n",
       "      <th>7</th>\n",
       "      <td>1989-10-20 04:00:33</td>\n",
       "      <td>2016-02-07 02:22:19</td>\n",
       "      <td>26.300148</td>\n",
       "      <td>315.601775</td>\n",
       "    </tr>\n",
       "    <tr>\n",
       "      <th>8</th>\n",
       "      <td>1983-06-28 08:41:02</td>\n",
       "      <td>2014-05-24 15:31:30</td>\n",
       "      <td>30.906275</td>\n",
       "      <td>370.875297</td>\n",
       "    </tr>\n",
       "    <tr>\n",
       "      <th>9</th>\n",
       "      <td>1988-01-06 00:27:23</td>\n",
       "      <td>2012-03-16 16:13:11</td>\n",
       "      <td>24.193945</td>\n",
       "      <td>290.327335</td>\n",
       "    </tr>\n",
       "  </tbody>\n",
       "</table>\n",
       "</div>"
      ],
      "text/plain": [
       "        date_of_birth           sale_date      years      months\n",
       "0 1997-05-27 12:16:24 2010-09-16 10:48:20  13.306061  159.672727\n",
       "1 1989-05-22 00:09:46 2015-11-11 18:02:58  26.474863  317.698360\n",
       "2 1983-04-13 17:10:49 2015-06-09 19:58:49  32.157037  385.884447\n",
       "3 1983-10-11 02:16:11 2014-11-19 04:16:35  31.108328  373.299940\n",
       "4 1986-02-19 15:04:47 2018-10-10 06:18:31  32.637589  391.651066\n",
       "5 1987-02-16 09:23:41 2014-01-22 19:07:31  26.933901  323.206815\n",
       "6 1993-06-13 09:06:02 2012-03-01 03:13:02  18.715661  224.587934\n",
       "7 1989-10-20 04:00:33 2016-02-07 02:22:19  26.300148  315.601775\n",
       "8 1983-06-28 08:41:02 2014-05-24 15:31:30  30.906275  370.875297\n",
       "9 1988-01-06 00:27:23 2012-03-16 16:13:11  24.193945  290.327335"
      ]
     },
     "execution_count": 13,
     "metadata": {},
     "output_type": "execute_result"
    }
   ],
   "source": [
    "transformed_data_months"
   ]
  },
  {
   "cell_type": "markdown",
   "metadata": {},
   "source": [
    "### Days"
   ]
  },
  {
   "cell_type": "code",
   "execution_count": 14,
   "metadata": {
    "ExecuteTime": {
     "end_time": "2020-12-07T17:17:55.347376Z",
     "start_time": "2020-12-07T17:17:55.336377Z"
    }
   },
   "outputs": [],
   "source": [
    "date_difference_transformer = DateDifferenceTransformer(\n",
    "    column_lower=\"date_of_birth\",\n",
    "    column_upper=\"sale_date\",\n",
    "    new_column_name=\"days\",\n",
    "    units='D',\n",
    ")"
   ]
  },
  {
   "cell_type": "code",
   "execution_count": 15,
   "metadata": {
    "ExecuteTime": {
     "end_time": "2020-12-07T17:17:55.371394Z",
     "start_time": "2020-12-07T17:17:55.349376Z"
    }
   },
   "outputs": [],
   "source": [
    "transformed_data_days = date_difference_transformer.transform(transformed_data_months)"
   ]
  },
  {
   "cell_type": "code",
   "execution_count": 16,
   "metadata": {
    "ExecuteTime": {
     "end_time": "2020-12-07T17:17:55.405093Z",
     "start_time": "2020-12-07T17:17:55.372376Z"
    }
   },
   "outputs": [
    {
     "data": {
      "text/html": [
       "<div>\n",
       "<style scoped>\n",
       "    .dataframe tbody tr th:only-of-type {\n",
       "        vertical-align: middle;\n",
       "    }\n",
       "\n",
       "    .dataframe tbody tr th {\n",
       "        vertical-align: top;\n",
       "    }\n",
       "\n",
       "    .dataframe thead th {\n",
       "        text-align: right;\n",
       "    }\n",
       "</style>\n",
       "<table border=\"1\" class=\"dataframe\">\n",
       "  <thead>\n",
       "    <tr style=\"text-align: right;\">\n",
       "      <th></th>\n",
       "      <th>date_of_birth</th>\n",
       "      <th>sale_date</th>\n",
       "      <th>years</th>\n",
       "      <th>months</th>\n",
       "      <th>days</th>\n",
       "    </tr>\n",
       "  </thead>\n",
       "  <tbody>\n",
       "    <tr>\n",
       "      <th>0</th>\n",
       "      <td>1997-05-27 12:16:24</td>\n",
       "      <td>2010-09-16 10:48:20</td>\n",
       "      <td>13.306061</td>\n",
       "      <td>159.672727</td>\n",
       "      <td>4859.938843</td>\n",
       "    </tr>\n",
       "    <tr>\n",
       "      <th>1</th>\n",
       "      <td>1989-05-22 00:09:46</td>\n",
       "      <td>2015-11-11 18:02:58</td>\n",
       "      <td>26.474863</td>\n",
       "      <td>317.698360</td>\n",
       "      <td>9669.745278</td>\n",
       "    </tr>\n",
       "    <tr>\n",
       "      <th>2</th>\n",
       "      <td>1983-04-13 17:10:49</td>\n",
       "      <td>2015-06-09 19:58:49</td>\n",
       "      <td>32.157037</td>\n",
       "      <td>385.884447</td>\n",
       "      <td>11745.116667</td>\n",
       "    </tr>\n",
       "    <tr>\n",
       "      <th>3</th>\n",
       "      <td>1983-10-11 02:16:11</td>\n",
       "      <td>2014-11-19 04:16:35</td>\n",
       "      <td>31.108328</td>\n",
       "      <td>373.299940</td>\n",
       "      <td>11362.083611</td>\n",
       "    </tr>\n",
       "    <tr>\n",
       "      <th>4</th>\n",
       "      <td>1986-02-19 15:04:47</td>\n",
       "      <td>2018-10-10 06:18:31</td>\n",
       "      <td>32.637589</td>\n",
       "      <td>391.651066</td>\n",
       "      <td>11920.634537</td>\n",
       "    </tr>\n",
       "    <tr>\n",
       "      <th>5</th>\n",
       "      <td>1987-02-16 09:23:41</td>\n",
       "      <td>2014-01-22 19:07:31</td>\n",
       "      <td>26.933901</td>\n",
       "      <td>323.206815</td>\n",
       "      <td>9837.405440</td>\n",
       "    </tr>\n",
       "    <tr>\n",
       "      <th>6</th>\n",
       "      <td>1993-06-13 09:06:02</td>\n",
       "      <td>2012-03-01 03:13:02</td>\n",
       "      <td>18.715661</td>\n",
       "      <td>224.587934</td>\n",
       "      <td>6835.754861</td>\n",
       "    </tr>\n",
       "    <tr>\n",
       "      <th>7</th>\n",
       "      <td>1989-10-20 04:00:33</td>\n",
       "      <td>2016-02-07 02:22:19</td>\n",
       "      <td>26.300148</td>\n",
       "      <td>315.601775</td>\n",
       "      <td>9605.931782</td>\n",
       "    </tr>\n",
       "    <tr>\n",
       "      <th>8</th>\n",
       "      <td>1983-06-28 08:41:02</td>\n",
       "      <td>2014-05-24 15:31:30</td>\n",
       "      <td>30.906275</td>\n",
       "      <td>370.875297</td>\n",
       "      <td>11288.285046</td>\n",
       "    </tr>\n",
       "    <tr>\n",
       "      <th>9</th>\n",
       "      <td>1988-01-06 00:27:23</td>\n",
       "      <td>2012-03-16 16:13:11</td>\n",
       "      <td>24.193945</td>\n",
       "      <td>290.327335</td>\n",
       "      <td>8836.656806</td>\n",
       "    </tr>\n",
       "  </tbody>\n",
       "</table>\n",
       "</div>"
      ],
      "text/plain": [
       "        date_of_birth           sale_date      years      months          days\n",
       "0 1997-05-27 12:16:24 2010-09-16 10:48:20  13.306061  159.672727   4859.938843\n",
       "1 1989-05-22 00:09:46 2015-11-11 18:02:58  26.474863  317.698360   9669.745278\n",
       "2 1983-04-13 17:10:49 2015-06-09 19:58:49  32.157037  385.884447  11745.116667\n",
       "3 1983-10-11 02:16:11 2014-11-19 04:16:35  31.108328  373.299940  11362.083611\n",
       "4 1986-02-19 15:04:47 2018-10-10 06:18:31  32.637589  391.651066  11920.634537\n",
       "5 1987-02-16 09:23:41 2014-01-22 19:07:31  26.933901  323.206815   9837.405440\n",
       "6 1993-06-13 09:06:02 2012-03-01 03:13:02  18.715661  224.587934   6835.754861\n",
       "7 1989-10-20 04:00:33 2016-02-07 02:22:19  26.300148  315.601775   9605.931782\n",
       "8 1983-06-28 08:41:02 2014-05-24 15:31:30  30.906275  370.875297  11288.285046\n",
       "9 1988-01-06 00:27:23 2012-03-16 16:13:11  24.193945  290.327335   8836.656806"
      ]
     },
     "execution_count": 16,
     "metadata": {},
     "output_type": "execute_result"
    }
   ],
   "source": [
    "transformed_data_days"
   ]
  },
  {
   "cell_type": "markdown",
   "metadata": {},
   "source": [
    "### Hours"
   ]
  },
  {
   "cell_type": "code",
   "execution_count": 17,
   "metadata": {
    "ExecuteTime": {
     "end_time": "2020-12-07T17:17:55.426375Z",
     "start_time": "2020-12-07T17:17:55.407377Z"
    }
   },
   "outputs": [],
   "source": [
    "date_difference_transformer = DateDifferenceTransformer(\n",
    "    column_lower=\"date_of_birth\",\n",
    "    column_upper=\"sale_date\",\n",
    "    new_column_name=\"hours\",\n",
    "    units='h',\n",
    ")"
   ]
  },
  {
   "cell_type": "code",
   "execution_count": 18,
   "metadata": {
    "ExecuteTime": {
     "end_time": "2020-12-07T17:17:55.446380Z",
     "start_time": "2020-12-07T17:17:55.428379Z"
    }
   },
   "outputs": [],
   "source": [
    "transformed_data_hours = date_difference_transformer.transform(transformed_data_days)"
   ]
  },
  {
   "cell_type": "code",
   "execution_count": 19,
   "metadata": {
    "ExecuteTime": {
     "end_time": "2020-12-07T17:17:55.483389Z",
     "start_time": "2020-12-07T17:17:55.448375Z"
    }
   },
   "outputs": [
    {
     "data": {
      "text/html": [
       "<div>\n",
       "<style scoped>\n",
       "    .dataframe tbody tr th:only-of-type {\n",
       "        vertical-align: middle;\n",
       "    }\n",
       "\n",
       "    .dataframe tbody tr th {\n",
       "        vertical-align: top;\n",
       "    }\n",
       "\n",
       "    .dataframe thead th {\n",
       "        text-align: right;\n",
       "    }\n",
       "</style>\n",
       "<table border=\"1\" class=\"dataframe\">\n",
       "  <thead>\n",
       "    <tr style=\"text-align: right;\">\n",
       "      <th></th>\n",
       "      <th>date_of_birth</th>\n",
       "      <th>sale_date</th>\n",
       "      <th>years</th>\n",
       "      <th>months</th>\n",
       "      <th>days</th>\n",
       "      <th>hours</th>\n",
       "    </tr>\n",
       "  </thead>\n",
       "  <tbody>\n",
       "    <tr>\n",
       "      <th>0</th>\n",
       "      <td>1997-05-27 12:16:24</td>\n",
       "      <td>2010-09-16 10:48:20</td>\n",
       "      <td>13.306061</td>\n",
       "      <td>159.672727</td>\n",
       "      <td>4859.938843</td>\n",
       "      <td>116638.532222</td>\n",
       "    </tr>\n",
       "    <tr>\n",
       "      <th>1</th>\n",
       "      <td>1989-05-22 00:09:46</td>\n",
       "      <td>2015-11-11 18:02:58</td>\n",
       "      <td>26.474863</td>\n",
       "      <td>317.698360</td>\n",
       "      <td>9669.745278</td>\n",
       "      <td>232073.886667</td>\n",
       "    </tr>\n",
       "    <tr>\n",
       "      <th>2</th>\n",
       "      <td>1983-04-13 17:10:49</td>\n",
       "      <td>2015-06-09 19:58:49</td>\n",
       "      <td>32.157037</td>\n",
       "      <td>385.884447</td>\n",
       "      <td>11745.116667</td>\n",
       "      <td>281882.800000</td>\n",
       "    </tr>\n",
       "    <tr>\n",
       "      <th>3</th>\n",
       "      <td>1983-10-11 02:16:11</td>\n",
       "      <td>2014-11-19 04:16:35</td>\n",
       "      <td>31.108328</td>\n",
       "      <td>373.299940</td>\n",
       "      <td>11362.083611</td>\n",
       "      <td>272690.006667</td>\n",
       "    </tr>\n",
       "    <tr>\n",
       "      <th>4</th>\n",
       "      <td>1986-02-19 15:04:47</td>\n",
       "      <td>2018-10-10 06:18:31</td>\n",
       "      <td>32.637589</td>\n",
       "      <td>391.651066</td>\n",
       "      <td>11920.634537</td>\n",
       "      <td>286095.228889</td>\n",
       "    </tr>\n",
       "    <tr>\n",
       "      <th>5</th>\n",
       "      <td>1987-02-16 09:23:41</td>\n",
       "      <td>2014-01-22 19:07:31</td>\n",
       "      <td>26.933901</td>\n",
       "      <td>323.206815</td>\n",
       "      <td>9837.405440</td>\n",
       "      <td>236097.730556</td>\n",
       "    </tr>\n",
       "    <tr>\n",
       "      <th>6</th>\n",
       "      <td>1993-06-13 09:06:02</td>\n",
       "      <td>2012-03-01 03:13:02</td>\n",
       "      <td>18.715661</td>\n",
       "      <td>224.587934</td>\n",
       "      <td>6835.754861</td>\n",
       "      <td>164058.116667</td>\n",
       "    </tr>\n",
       "    <tr>\n",
       "      <th>7</th>\n",
       "      <td>1989-10-20 04:00:33</td>\n",
       "      <td>2016-02-07 02:22:19</td>\n",
       "      <td>26.300148</td>\n",
       "      <td>315.601775</td>\n",
       "      <td>9605.931782</td>\n",
       "      <td>230542.362778</td>\n",
       "    </tr>\n",
       "    <tr>\n",
       "      <th>8</th>\n",
       "      <td>1983-06-28 08:41:02</td>\n",
       "      <td>2014-05-24 15:31:30</td>\n",
       "      <td>30.906275</td>\n",
       "      <td>370.875297</td>\n",
       "      <td>11288.285046</td>\n",
       "      <td>270918.841111</td>\n",
       "    </tr>\n",
       "    <tr>\n",
       "      <th>9</th>\n",
       "      <td>1988-01-06 00:27:23</td>\n",
       "      <td>2012-03-16 16:13:11</td>\n",
       "      <td>24.193945</td>\n",
       "      <td>290.327335</td>\n",
       "      <td>8836.656806</td>\n",
       "      <td>212079.763333</td>\n",
       "    </tr>\n",
       "  </tbody>\n",
       "</table>\n",
       "</div>"
      ],
      "text/plain": [
       "        date_of_birth           sale_date      years      months  \\\n",
       "0 1997-05-27 12:16:24 2010-09-16 10:48:20  13.306061  159.672727   \n",
       "1 1989-05-22 00:09:46 2015-11-11 18:02:58  26.474863  317.698360   \n",
       "2 1983-04-13 17:10:49 2015-06-09 19:58:49  32.157037  385.884447   \n",
       "3 1983-10-11 02:16:11 2014-11-19 04:16:35  31.108328  373.299940   \n",
       "4 1986-02-19 15:04:47 2018-10-10 06:18:31  32.637589  391.651066   \n",
       "5 1987-02-16 09:23:41 2014-01-22 19:07:31  26.933901  323.206815   \n",
       "6 1993-06-13 09:06:02 2012-03-01 03:13:02  18.715661  224.587934   \n",
       "7 1989-10-20 04:00:33 2016-02-07 02:22:19  26.300148  315.601775   \n",
       "8 1983-06-28 08:41:02 2014-05-24 15:31:30  30.906275  370.875297   \n",
       "9 1988-01-06 00:27:23 2012-03-16 16:13:11  24.193945  290.327335   \n",
       "\n",
       "           days          hours  \n",
       "0   4859.938843  116638.532222  \n",
       "1   9669.745278  232073.886667  \n",
       "2  11745.116667  281882.800000  \n",
       "3  11362.083611  272690.006667  \n",
       "4  11920.634537  286095.228889  \n",
       "5   9837.405440  236097.730556  \n",
       "6   6835.754861  164058.116667  \n",
       "7   9605.931782  230542.362778  \n",
       "8  11288.285046  270918.841111  \n",
       "9   8836.656806  212079.763333  "
      ]
     },
     "execution_count": 19,
     "metadata": {},
     "output_type": "execute_result"
    }
   ],
   "source": [
    "transformed_data_hours"
   ]
  },
  {
   "cell_type": "markdown",
   "metadata": {},
   "source": [
    "### Minutes"
   ]
  },
  {
   "cell_type": "code",
   "execution_count": 20,
   "metadata": {
    "ExecuteTime": {
     "end_time": "2020-12-07T17:17:55.503378Z",
     "start_time": "2020-12-07T17:17:55.485392Z"
    }
   },
   "outputs": [],
   "source": [
    "date_difference_transformer = DateDifferenceTransformer(\n",
    "    column_lower=\"date_of_birth\",\n",
    "    column_upper=\"sale_date\",\n",
    "    new_column_name=\"minutes\",\n",
    "    units='m',\n",
    ")"
   ]
  },
  {
   "cell_type": "code",
   "execution_count": 21,
   "metadata": {
    "ExecuteTime": {
     "end_time": "2020-12-07T17:17:55.533375Z",
     "start_time": "2020-12-07T17:17:55.505376Z"
    }
   },
   "outputs": [],
   "source": [
    "transformed_data_minutes = date_difference_transformer.transform(transformed_data_hours)"
   ]
  },
  {
   "cell_type": "code",
   "execution_count": 22,
   "metadata": {
    "ExecuteTime": {
     "end_time": "2020-12-07T17:17:55.564394Z",
     "start_time": "2020-12-07T17:17:55.540376Z"
    }
   },
   "outputs": [
    {
     "data": {
      "text/html": [
       "<div>\n",
       "<style scoped>\n",
       "    .dataframe tbody tr th:only-of-type {\n",
       "        vertical-align: middle;\n",
       "    }\n",
       "\n",
       "    .dataframe tbody tr th {\n",
       "        vertical-align: top;\n",
       "    }\n",
       "\n",
       "    .dataframe thead th {\n",
       "        text-align: right;\n",
       "    }\n",
       "</style>\n",
       "<table border=\"1\" class=\"dataframe\">\n",
       "  <thead>\n",
       "    <tr style=\"text-align: right;\">\n",
       "      <th></th>\n",
       "      <th>date_of_birth</th>\n",
       "      <th>sale_date</th>\n",
       "      <th>years</th>\n",
       "      <th>months</th>\n",
       "      <th>days</th>\n",
       "      <th>hours</th>\n",
       "      <th>minutes</th>\n",
       "    </tr>\n",
       "  </thead>\n",
       "  <tbody>\n",
       "    <tr>\n",
       "      <th>0</th>\n",
       "      <td>1997-05-27 12:16:24</td>\n",
       "      <td>2010-09-16 10:48:20</td>\n",
       "      <td>13.306061</td>\n",
       "      <td>159.672727</td>\n",
       "      <td>4859.938843</td>\n",
       "      <td>116638.532222</td>\n",
       "      <td>6.998312e+06</td>\n",
       "    </tr>\n",
       "    <tr>\n",
       "      <th>1</th>\n",
       "      <td>1989-05-22 00:09:46</td>\n",
       "      <td>2015-11-11 18:02:58</td>\n",
       "      <td>26.474863</td>\n",
       "      <td>317.698360</td>\n",
       "      <td>9669.745278</td>\n",
       "      <td>232073.886667</td>\n",
       "      <td>1.392443e+07</td>\n",
       "    </tr>\n",
       "    <tr>\n",
       "      <th>2</th>\n",
       "      <td>1983-04-13 17:10:49</td>\n",
       "      <td>2015-06-09 19:58:49</td>\n",
       "      <td>32.157037</td>\n",
       "      <td>385.884447</td>\n",
       "      <td>11745.116667</td>\n",
       "      <td>281882.800000</td>\n",
       "      <td>1.691297e+07</td>\n",
       "    </tr>\n",
       "    <tr>\n",
       "      <th>3</th>\n",
       "      <td>1983-10-11 02:16:11</td>\n",
       "      <td>2014-11-19 04:16:35</td>\n",
       "      <td>31.108328</td>\n",
       "      <td>373.299940</td>\n",
       "      <td>11362.083611</td>\n",
       "      <td>272690.006667</td>\n",
       "      <td>1.636140e+07</td>\n",
       "    </tr>\n",
       "    <tr>\n",
       "      <th>4</th>\n",
       "      <td>1986-02-19 15:04:47</td>\n",
       "      <td>2018-10-10 06:18:31</td>\n",
       "      <td>32.637589</td>\n",
       "      <td>391.651066</td>\n",
       "      <td>11920.634537</td>\n",
       "      <td>286095.228889</td>\n",
       "      <td>1.716571e+07</td>\n",
       "    </tr>\n",
       "    <tr>\n",
       "      <th>5</th>\n",
       "      <td>1987-02-16 09:23:41</td>\n",
       "      <td>2014-01-22 19:07:31</td>\n",
       "      <td>26.933901</td>\n",
       "      <td>323.206815</td>\n",
       "      <td>9837.405440</td>\n",
       "      <td>236097.730556</td>\n",
       "      <td>1.416586e+07</td>\n",
       "    </tr>\n",
       "    <tr>\n",
       "      <th>6</th>\n",
       "      <td>1993-06-13 09:06:02</td>\n",
       "      <td>2012-03-01 03:13:02</td>\n",
       "      <td>18.715661</td>\n",
       "      <td>224.587934</td>\n",
       "      <td>6835.754861</td>\n",
       "      <td>164058.116667</td>\n",
       "      <td>9.843487e+06</td>\n",
       "    </tr>\n",
       "    <tr>\n",
       "      <th>7</th>\n",
       "      <td>1989-10-20 04:00:33</td>\n",
       "      <td>2016-02-07 02:22:19</td>\n",
       "      <td>26.300148</td>\n",
       "      <td>315.601775</td>\n",
       "      <td>9605.931782</td>\n",
       "      <td>230542.362778</td>\n",
       "      <td>1.383254e+07</td>\n",
       "    </tr>\n",
       "    <tr>\n",
       "      <th>8</th>\n",
       "      <td>1983-06-28 08:41:02</td>\n",
       "      <td>2014-05-24 15:31:30</td>\n",
       "      <td>30.906275</td>\n",
       "      <td>370.875297</td>\n",
       "      <td>11288.285046</td>\n",
       "      <td>270918.841111</td>\n",
       "      <td>1.625513e+07</td>\n",
       "    </tr>\n",
       "    <tr>\n",
       "      <th>9</th>\n",
       "      <td>1988-01-06 00:27:23</td>\n",
       "      <td>2012-03-16 16:13:11</td>\n",
       "      <td>24.193945</td>\n",
       "      <td>290.327335</td>\n",
       "      <td>8836.656806</td>\n",
       "      <td>212079.763333</td>\n",
       "      <td>1.272479e+07</td>\n",
       "    </tr>\n",
       "  </tbody>\n",
       "</table>\n",
       "</div>"
      ],
      "text/plain": [
       "        date_of_birth           sale_date      years      months  \\\n",
       "0 1997-05-27 12:16:24 2010-09-16 10:48:20  13.306061  159.672727   \n",
       "1 1989-05-22 00:09:46 2015-11-11 18:02:58  26.474863  317.698360   \n",
       "2 1983-04-13 17:10:49 2015-06-09 19:58:49  32.157037  385.884447   \n",
       "3 1983-10-11 02:16:11 2014-11-19 04:16:35  31.108328  373.299940   \n",
       "4 1986-02-19 15:04:47 2018-10-10 06:18:31  32.637589  391.651066   \n",
       "5 1987-02-16 09:23:41 2014-01-22 19:07:31  26.933901  323.206815   \n",
       "6 1993-06-13 09:06:02 2012-03-01 03:13:02  18.715661  224.587934   \n",
       "7 1989-10-20 04:00:33 2016-02-07 02:22:19  26.300148  315.601775   \n",
       "8 1983-06-28 08:41:02 2014-05-24 15:31:30  30.906275  370.875297   \n",
       "9 1988-01-06 00:27:23 2012-03-16 16:13:11  24.193945  290.327335   \n",
       "\n",
       "           days          hours       minutes  \n",
       "0   4859.938843  116638.532222  6.998312e+06  \n",
       "1   9669.745278  232073.886667  1.392443e+07  \n",
       "2  11745.116667  281882.800000  1.691297e+07  \n",
       "3  11362.083611  272690.006667  1.636140e+07  \n",
       "4  11920.634537  286095.228889  1.716571e+07  \n",
       "5   9837.405440  236097.730556  1.416586e+07  \n",
       "6   6835.754861  164058.116667  9.843487e+06  \n",
       "7   9605.931782  230542.362778  1.383254e+07  \n",
       "8  11288.285046  270918.841111  1.625513e+07  \n",
       "9   8836.656806  212079.763333  1.272479e+07  "
      ]
     },
     "execution_count": 22,
     "metadata": {},
     "output_type": "execute_result"
    }
   ],
   "source": [
    "transformed_data_minutes"
   ]
  },
  {
   "cell_type": "markdown",
   "metadata": {},
   "source": [
    "### Seconds"
   ]
  },
  {
   "cell_type": "code",
   "execution_count": 23,
   "metadata": {
    "ExecuteTime": {
     "end_time": "2020-12-07T17:17:55.582375Z",
     "start_time": "2020-12-07T17:17:55.568382Z"
    }
   },
   "outputs": [],
   "source": [
    "date_difference_transformer = DateDifferenceTransformer(\n",
    "    column_lower=\"date_of_birth\",\n",
    "    column_upper=\"sale_date\",\n",
    "    new_column_name=\"seconds\",\n",
    "    units='s',\n",
    ")"
   ]
  },
  {
   "cell_type": "code",
   "execution_count": 24,
   "metadata": {
    "ExecuteTime": {
     "end_time": "2020-12-07T17:17:55.603377Z",
     "start_time": "2020-12-07T17:17:55.584377Z"
    }
   },
   "outputs": [],
   "source": [
    "transformed_data_seconds = date_difference_transformer.transform(transformed_data_minutes)"
   ]
  },
  {
   "cell_type": "code",
   "execution_count": 25,
   "metadata": {
    "ExecuteTime": {
     "end_time": "2020-12-07T17:17:55.641379Z",
     "start_time": "2020-12-07T17:17:55.605378Z"
    },
    "scrolled": true
   },
   "outputs": [
    {
     "data": {
      "text/html": [
       "<div>\n",
       "<style scoped>\n",
       "    .dataframe tbody tr th:only-of-type {\n",
       "        vertical-align: middle;\n",
       "    }\n",
       "\n",
       "    .dataframe tbody tr th {\n",
       "        vertical-align: top;\n",
       "    }\n",
       "\n",
       "    .dataframe thead th {\n",
       "        text-align: right;\n",
       "    }\n",
       "</style>\n",
       "<table border=\"1\" class=\"dataframe\">\n",
       "  <thead>\n",
       "    <tr style=\"text-align: right;\">\n",
       "      <th></th>\n",
       "      <th>date_of_birth</th>\n",
       "      <th>sale_date</th>\n",
       "      <th>years</th>\n",
       "      <th>months</th>\n",
       "      <th>days</th>\n",
       "      <th>hours</th>\n",
       "      <th>minutes</th>\n",
       "      <th>seconds</th>\n",
       "    </tr>\n",
       "  </thead>\n",
       "  <tbody>\n",
       "    <tr>\n",
       "      <th>0</th>\n",
       "      <td>1997-05-27 12:16:24</td>\n",
       "      <td>2010-09-16 10:48:20</td>\n",
       "      <td>13.306061</td>\n",
       "      <td>159.672727</td>\n",
       "      <td>4859.938843</td>\n",
       "      <td>116638.532222</td>\n",
       "      <td>6.998312e+06</td>\n",
       "      <td>4.198987e+08</td>\n",
       "    </tr>\n",
       "    <tr>\n",
       "      <th>1</th>\n",
       "      <td>1989-05-22 00:09:46</td>\n",
       "      <td>2015-11-11 18:02:58</td>\n",
       "      <td>26.474863</td>\n",
       "      <td>317.698360</td>\n",
       "      <td>9669.745278</td>\n",
       "      <td>232073.886667</td>\n",
       "      <td>1.392443e+07</td>\n",
       "      <td>8.354660e+08</td>\n",
       "    </tr>\n",
       "    <tr>\n",
       "      <th>2</th>\n",
       "      <td>1983-04-13 17:10:49</td>\n",
       "      <td>2015-06-09 19:58:49</td>\n",
       "      <td>32.157037</td>\n",
       "      <td>385.884447</td>\n",
       "      <td>11745.116667</td>\n",
       "      <td>281882.800000</td>\n",
       "      <td>1.691297e+07</td>\n",
       "      <td>1.014778e+09</td>\n",
       "    </tr>\n",
       "    <tr>\n",
       "      <th>3</th>\n",
       "      <td>1983-10-11 02:16:11</td>\n",
       "      <td>2014-11-19 04:16:35</td>\n",
       "      <td>31.108328</td>\n",
       "      <td>373.299940</td>\n",
       "      <td>11362.083611</td>\n",
       "      <td>272690.006667</td>\n",
       "      <td>1.636140e+07</td>\n",
       "      <td>9.816840e+08</td>\n",
       "    </tr>\n",
       "    <tr>\n",
       "      <th>4</th>\n",
       "      <td>1986-02-19 15:04:47</td>\n",
       "      <td>2018-10-10 06:18:31</td>\n",
       "      <td>32.637589</td>\n",
       "      <td>391.651066</td>\n",
       "      <td>11920.634537</td>\n",
       "      <td>286095.228889</td>\n",
       "      <td>1.716571e+07</td>\n",
       "      <td>1.029943e+09</td>\n",
       "    </tr>\n",
       "    <tr>\n",
       "      <th>5</th>\n",
       "      <td>1987-02-16 09:23:41</td>\n",
       "      <td>2014-01-22 19:07:31</td>\n",
       "      <td>26.933901</td>\n",
       "      <td>323.206815</td>\n",
       "      <td>9837.405440</td>\n",
       "      <td>236097.730556</td>\n",
       "      <td>1.416586e+07</td>\n",
       "      <td>8.499518e+08</td>\n",
       "    </tr>\n",
       "    <tr>\n",
       "      <th>6</th>\n",
       "      <td>1993-06-13 09:06:02</td>\n",
       "      <td>2012-03-01 03:13:02</td>\n",
       "      <td>18.715661</td>\n",
       "      <td>224.587934</td>\n",
       "      <td>6835.754861</td>\n",
       "      <td>164058.116667</td>\n",
       "      <td>9.843487e+06</td>\n",
       "      <td>5.906092e+08</td>\n",
       "    </tr>\n",
       "    <tr>\n",
       "      <th>7</th>\n",
       "      <td>1989-10-20 04:00:33</td>\n",
       "      <td>2016-02-07 02:22:19</td>\n",
       "      <td>26.300148</td>\n",
       "      <td>315.601775</td>\n",
       "      <td>9605.931782</td>\n",
       "      <td>230542.362778</td>\n",
       "      <td>1.383254e+07</td>\n",
       "      <td>8.299525e+08</td>\n",
       "    </tr>\n",
       "    <tr>\n",
       "      <th>8</th>\n",
       "      <td>1983-06-28 08:41:02</td>\n",
       "      <td>2014-05-24 15:31:30</td>\n",
       "      <td>30.906275</td>\n",
       "      <td>370.875297</td>\n",
       "      <td>11288.285046</td>\n",
       "      <td>270918.841111</td>\n",
       "      <td>1.625513e+07</td>\n",
       "      <td>9.753078e+08</td>\n",
       "    </tr>\n",
       "    <tr>\n",
       "      <th>9</th>\n",
       "      <td>1988-01-06 00:27:23</td>\n",
       "      <td>2012-03-16 16:13:11</td>\n",
       "      <td>24.193945</td>\n",
       "      <td>290.327335</td>\n",
       "      <td>8836.656806</td>\n",
       "      <td>212079.763333</td>\n",
       "      <td>1.272479e+07</td>\n",
       "      <td>7.634871e+08</td>\n",
       "    </tr>\n",
       "  </tbody>\n",
       "</table>\n",
       "</div>"
      ],
      "text/plain": [
       "        date_of_birth           sale_date      years      months  \\\n",
       "0 1997-05-27 12:16:24 2010-09-16 10:48:20  13.306061  159.672727   \n",
       "1 1989-05-22 00:09:46 2015-11-11 18:02:58  26.474863  317.698360   \n",
       "2 1983-04-13 17:10:49 2015-06-09 19:58:49  32.157037  385.884447   \n",
       "3 1983-10-11 02:16:11 2014-11-19 04:16:35  31.108328  373.299940   \n",
       "4 1986-02-19 15:04:47 2018-10-10 06:18:31  32.637589  391.651066   \n",
       "5 1987-02-16 09:23:41 2014-01-22 19:07:31  26.933901  323.206815   \n",
       "6 1993-06-13 09:06:02 2012-03-01 03:13:02  18.715661  224.587934   \n",
       "7 1989-10-20 04:00:33 2016-02-07 02:22:19  26.300148  315.601775   \n",
       "8 1983-06-28 08:41:02 2014-05-24 15:31:30  30.906275  370.875297   \n",
       "9 1988-01-06 00:27:23 2012-03-16 16:13:11  24.193945  290.327335   \n",
       "\n",
       "           days          hours       minutes       seconds  \n",
       "0   4859.938843  116638.532222  6.998312e+06  4.198987e+08  \n",
       "1   9669.745278  232073.886667  1.392443e+07  8.354660e+08  \n",
       "2  11745.116667  281882.800000  1.691297e+07  1.014778e+09  \n",
       "3  11362.083611  272690.006667  1.636140e+07  9.816840e+08  \n",
       "4  11920.634537  286095.228889  1.716571e+07  1.029943e+09  \n",
       "5   9837.405440  236097.730556  1.416586e+07  8.499518e+08  \n",
       "6   6835.754861  164058.116667  9.843487e+06  5.906092e+08  \n",
       "7   9605.931782  230542.362778  1.383254e+07  8.299525e+08  \n",
       "8  11288.285046  270918.841111  1.625513e+07  9.753078e+08  \n",
       "9   8836.656806  212079.763333  1.272479e+07  7.634871e+08  "
      ]
     },
     "execution_count": 25,
     "metadata": {},
     "output_type": "execute_result"
    }
   ],
   "source": [
    "transformed_data_seconds "
   ]
  },
  {
   "cell_type": "code",
   "execution_count": null,
   "metadata": {},
   "outputs": [],
   "source": []
  }
 ],
 "metadata": {
  "hide_input": false,
  "kernelspec": {
   "display_name": "python3",
   "language": "python",
   "name": "python3"
  },
  "language_info": {
   "codemirror_mode": {
    "name": "ipython",
    "version": 3
   },
   "file_extension": ".py",
   "mimetype": "text/x-python",
   "name": "python",
   "nbconvert_exporter": "python",
   "pygments_lexer": "ipython3",
   "version": "3.6.10"
  },
  "toc": {
   "base_numbering": 1,
   "nav_menu": {},
   "number_sections": true,
   "sideBar": true,
   "skip_h1_title": false,
   "title_cell": "Table of Contents",
   "title_sidebar": "Contents",
   "toc_cell": true,
   "toc_position": {},
   "toc_section_display": true,
   "toc_window_display": true
  },
  "varInspector": {
   "cols": {
    "lenName": 16,
    "lenType": 16,
    "lenVar": 40
   },
   "kernels_config": {
    "python": {
     "delete_cmd_postfix": "",
     "delete_cmd_prefix": "del ",
     "library": "var_list.py",
     "varRefreshCmd": "print(var_dic_list())"
    },
    "r": {
     "delete_cmd_postfix": ") ",
     "delete_cmd_prefix": "rm(",
     "library": "var_list.r",
     "varRefreshCmd": "cat(var_dic_list()) "
    }
   },
   "types_to_exclude": [
    "module",
    "function",
    "builtin_function_or_method",
    "instance",
    "_Feature"
   ],
   "window_display": false
  }
 },
 "nbformat": 4,
 "nbformat_minor": 2
}
