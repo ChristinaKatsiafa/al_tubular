{
 "cells": [
  {
   "cell_type": "code",
   "execution_count": null,
   "metadata": {},
   "outputs": [],
   "source": [
    "import narwhals as nw\n",
    "import pandas as pd\n",
    "import polars as pl\n",
    "import datetime\n",
    "\n",
    "from narwhals.typing import FrameT"
   ]
  },
  {
   "cell_type": "code",
   "execution_count": null,
   "metadata": {},
   "outputs": [
    {
     "data": {
      "text/plain": [
       "Traceback (most recent call last):\n",
       "  File \"/home/vscode/.vscode-remote/extensions/ms-python.python-2025.2.0-linux-x64/python_files/python_server.py\", line 133, in exec_user_input\n",
       "    retval = callable_(user_input, user_globals)\n",
       "  File \"<string>\", line 5, in <module>\n",
       "NameError: name 'FrameT' is not defined\n",
       "\n"
      ]
     },
     "metadata": {},
     "output_type": "display_data"
    }
   ],
   "source": [
    "\n",
    "def dataframe_init_dispatch(\n",
    "    dataframe_dict: dict,\n",
    "    library: str,\n",
    ") -> FrameT:\n",
    "    \"\"\"\n",
    "    Initialize a DataFrame using either Pandas or Polars library based on the specified library name.\n",
    "\n",
    "    Parameters:\n",
    "    dataframe_dict (dict): A dictionary where keys are column names and values are lists of column data.\n",
    "    library (str): The name of the library to use for DataFrame creation. Should be either \"pandas\" or \"polars\".\n",
    "\n",
    "    Returns:\n",
    "    pl.DataFrame | pd.DataFrame: A DataFrame object from the specified library.\n",
    "\n",
    "    Raises:\n",
    "    ValueError: If the `library` parameter is not \"pandas\" or \"polars\".\n",
    "    \"\"\"\n",
    "\n",
    "    pandas_df = pd.DataFrame(dataframe_dict)\n",
    "\n",
    "    # narwhals only supports pyarrow date type, so convert\n",
    "    for col in pandas_df:\n",
    "        if pd.api.types.infer_dtype(pandas_df[col]) == \"date\":\n",
    "            pandas_df[col] = pandas_df[col].astype(\"date32[pyarrow]\")\n",
    "\n",
    "        # ensure datetimes setup as expected\n",
    "        if pd.api.types.is_datetime64_any_dtype(pandas_df[col]):\n",
    "            pandas_df[col] = pd.to_datetime(pandas_df[col])\n",
    "\n",
    "    if library == \"pandas\":\n",
    "        return pandas_df\n",
    "\n",
    "    if library == \"polars\":\n",
    "        polars_df = pl.DataFrame(dataframe_dict)\n",
    "\n",
    "        return _align_pandas_and_polars_dtypes(pandas_df, polars_df)\n",
    "\n",
    "    library_error_message = (\n",
    "        \"The library parameter should be either 'pandas' or 'polars'.\"\n",
    "    )\n",
    "    raise ValueError(library_error_message)"
   ]
  },
  {
   "cell_type": "code",
   "execution_count": null,
   "metadata": {},
   "outputs": [],
   "source": [
    "def create_is_between_dates_df_2(library=\"pandas\"):\n",
    "    \"\"\"Create df to use in IsBetweenDates tests. Contains 3 columns of 5 datatime values, covers edge cases.\"\"\"\n",
    "\n",
    "    df_dict = {\n",
    "        \"a\": [\n",
    "            datetime.datetime(1990, 2, 1, tzinfo=datetime.timezone.utc),\n",
    "            datetime.datetime(1990, 2, 1, tzinfo=datetime.timezone.utc),\n",
    "            datetime.datetime(1990, 2, 1, tzinfo=datetime.timezone.utc),\n",
    "            datetime.datetime(1990, 2, 1, tzinfo=datetime.timezone.utc),\n",
    "            datetime.datetime(1990, 2, 1, tzinfo=datetime.timezone.utc),\n",
    "            datetime.datetime(1990, 2, 1, tzinfo=datetime.timezone.utc),\n",
    "        ],\n",
    "        \"b\": [\n",
    "            datetime.datetime(1990, 1, 20, tzinfo=datetime.timezone.utc),\n",
    "            datetime.datetime(1990, 2, 1, tzinfo=datetime.timezone.utc),\n",
    "            datetime.datetime(1990, 2, 2, tzinfo=datetime.timezone.utc),\n",
    "            datetime.datetime(1990, 2, 6, tzinfo=datetime.timezone.utc),\n",
    "            datetime.datetime(1990, 3, 1, tzinfo=datetime.timezone.utc),\n",
    "            datetime.datetime(1990, 3, 2, tzinfo=datetime.timezone.utc),\n",
    "        ],\n",
    "        \"c\": [\n",
    "            datetime.datetime(1990, 3, 1, tzinfo=datetime.timezone.utc),\n",
    "            datetime.datetime(1990, 3, 1, tzinfo=datetime.timezone.utc),\n",
    "            datetime.datetime(1990, 3, 1, tzinfo=datetime.timezone.utc),\n",
    "            datetime.datetime(1990, 3, 1, tzinfo=datetime.timezone.utc),\n",
    "            datetime.datetime(1990, 3, 1, tzinfo=datetime.timezone.utc),\n",
    "            datetime.datetime(1990, 3, 1, tzinfo=datetime.timezone.utc),\n",
    "        ],\n",
    "    }\n",
    "\n",
    "    return dataframe_init_dispatch(df_dict, library=library)"
   ]
  },
  {
   "cell_type": "code",
   "execution_count": null,
   "metadata": {},
   "outputs": [
    {
     "data": {
      "text/plain": [
       "Traceback (most recent call last):\n",
       "  File \"/home/vscode/.vscode-remote/extensions/ms-python.python-2025.2.0-linux-x64/python_files/python_server.py\", line 133, in exec_user_input\n",
       "    retval = callable_(user_input, user_globals)\n",
       "  File \"<string>\", line 1, in <module>\n",
       "  File \"<string>\", line 31, in create_is_between_dates_df_2\n",
       "NameError: name 'dataframe_init_dispatch' is not defined\n",
       "\n"
      ]
     },
     "metadata": {},
     "output_type": "display_data"
    }
   ],
   "source": [
    "df = create_is_between_dates_df_2(library=\"pandas\")\n",
    "df = nw.from_native(df)"
   ]
  },
  {
   "cell_type": "code",
   "execution_count": null,
   "metadata": {},
   "outputs": [
    {
     "data": {
      "text/plain": [
       "                          a                         b                         c\n",
       "0 1990-02-01 00:00:00+00:00 1990-01-20 00:00:00+00:00 1990-03-01 00:00:00+00:00\n",
       "1 1990-02-01 00:00:00+00:00 1990-02-01 00:00:00+00:00 1990-03-01 00:00:00+00:00\n",
       "2 1990-02-01 00:00:00+00:00 1990-02-02 00:00:00+00:00 1990-03-01 00:00:00+00:00\n",
       "3 1990-02-01 00:00:00+00:00 1990-02-06 00:00:00+00:00 1990-03-01 00:00:00+00:00\n",
       "4 1990-02-01 00:00:00+00:00 1990-03-01 00:00:00+00:00 1990-03-01 00:00:00+00:00\n"
      ]
     },
     "metadata": {},
     "output_type": "display_data"
    }
   ],
   "source": [
    "df.to_native().head()"
   ]
  },
  {
   "cell_type": "code",
   "execution_count": null,
   "metadata": {},
   "outputs": [
    {
     "data": {
      "text/plain": [
       "┌───────────────────────────────────────┐\n",
       "|          Narwhals DataFrame           |\n",
       "|---------------------------------------|\n",
       "|   index  ...                         c|\n",
       "|0      0  ... 1990-03-01 00:00:00+00:00|\n",
       "|1      1  ... 1990-03-01 00:00:00+00:00|\n",
       "|2      2  ... 1990-03-01 00:00:00+00:00|\n",
       "|3      3  ... 1990-03-01 00:00:00+00:00|\n",
       "|4      4  ... 1990-03-01 00:00:00+00:00|\n",
       "|5      5  ... 1990-03-01 00:00:00+00:00|\n",
       "|                                       |\n",
       "|[6 rows x 4 columns]                   |\n",
       "└───────────────────────────────────────┘\n"
      ]
     },
     "metadata": {},
     "output_type": "display_data"
    }
   ],
   "source": [
    "df.with_row_index()"
   ]
  },
  {
   "cell_type": "code",
   "execution_count": null,
   "metadata": {},
   "outputs": [
    {
     "data": {
      "text/plain": [
       "┌───────────────────────────────────────┐\n",
       "|          Narwhals DataFrame           |\n",
       "| Use `.to_native` to see native output |\n",
       "└───────────────────────────────────────┘\n"
      ]
     },
     "metadata": {},
     "output_type": "display_data"
    }
   ],
   "source": [
    "df.with_row_index('i').with_columns(\n",
    "    c = nw.when(nw.col('i')==0).then(datetime.datetime(1989, 3, 1, tzinfo=datetime.timezone.utc)).otherwise(\"c\")\n",
    ").drop('i')"
   ]
  },
  {
   "cell_type": "code",
   "execution_count": null,
   "metadata": {},
   "outputs": [
    {
     "data": {
      "text/plain": [
       "Traceback (most recent call last):\n",
       "  File \"/home/vscode/.vscode-remote/extensions/ms-python.python-2025.2.0-linux-x64/python_files/python_server.py\", line 133, in exec_user_input\n",
       "    retval = callable_(user_input, user_globals)\n",
       "  File \"<string>\", line 1, in <module>\n",
       "AttributeError: 'DataFrame' object has no attribute 'allias'\n",
       "\n"
      ]
     },
     "metadata": {},
     "output_type": "display_data"
    }
   ],
   "source": [
    "df.with_columns(df.with_row_index().allias('i')).with_columns(\n",
    "            c = nw.when(nw.head(1)).then(datetime.datetime(1989, 3, 1, tzinfo=datetime.timezone.utc)).otherwise(\"c\")\n",
    "            ).to_native()"
   ]
  },
  {
   "cell_type": "code",
   "execution_count": null,
   "metadata": {},
   "outputs": [],
   "source": []
  }
 ],
 "metadata": {
  "language_info": {
   "name": "python"
  }
 },
 "nbformat": 4,
 "nbformat_minor": 2
}
