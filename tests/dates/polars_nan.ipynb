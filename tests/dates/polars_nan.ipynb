{
 "cells": [
  {
   "cell_type": "code",
   "execution_count": 3,
   "metadata": {},
   "outputs": [],
   "source": [
    "import numpy as np\n",
    "import polars as pl\n",
    "import datetime"
   ]
  },
  {
   "cell_type": "code",
   "execution_count": 21,
   "metadata": {},
   "outputs": [],
   "source": [
    "def expected_df_7(library=\"pandas\"):\n",
    "    \"\"\"Expected output for test_expected_output_nulls.\"\"\"\n",
    "\n",
    "    df_dict = {\n",
    "        \"a\": [\n",
    "            datetime.datetime(\n",
    "                1993,\n",
    "                9,\n",
    "                27,\n",
    "                11,\n",
    "                58,\n",
    "                58,\n",
    "                tzinfo=datetime.timezone.utc,\n",
    "            ),\n",
    "            np.nan if library == \"pandas\" else None,\n",
    "        ],\n",
    "        \"b\": [\n",
    "            np.nan if library == \"pandas\" else None,\n",
    "            datetime.datetime(\n",
    "                2019,\n",
    "                12,\n",
    "                25,\n",
    "                11,\n",
    "                58,\n",
    "                58,\n",
    "                tzinfo=datetime.timezone.utc,\n",
    "            ),\n",
    "        ],\n",
    "        \"D\": [\n",
    "            np.nan if library == \"pandas\" else None,\n",
    "            np.nan if library == \"pandas\" else None,\n",
    "        ],\n",
    "    }\n",
    "\n",
    "    return pl.DataFrame(df_dict)"
   ]
  },
  {
   "cell_type": "code",
   "execution_count": 23,
   "metadata": {},
   "outputs": [],
   "source": [
    "def create_datediff_test_nulls_df(library=\"pandas\"):\n",
    "    \"\"\"Create DataFrame with nulls only for DateDifferenceTransformer tests.\"\"\"\n",
    "\n",
    "    df_dict = {\n",
    "        \"a\": [\n",
    "            datetime.datetime(\n",
    "                1993,\n",
    "                9,\n",
    "                27,\n",
    "                11,\n",
    "                58,\n",
    "                58,\n",
    "                tzinfo=datetime.timezone.utc,\n",
    "            ),\n",
    "            np.nan if library == \"pandas\" else None,\n",
    "        ],\n",
    "        \"b\": [\n",
    "            np.nan if library == \"pandas\" else None,\n",
    "            datetime.datetime(\n",
    "                2019,\n",
    "                12,\n",
    "                25,\n",
    "                11,\n",
    "                58,\n",
    "                58,\n",
    "                tzinfo=datetime.timezone.utc,\n",
    "            ),\n",
    "        ],\n",
    "    }\n",
    "\n",
    "    return pl.DataFrame(df_dict)"
   ]
  },
  {
   "cell_type": "code",
   "execution_count": 25,
   "metadata": {},
   "outputs": [
    {
     "data": {
      "text/plain": [
       "Schema([('a', Datetime(time_unit='us', time_zone='UTC')),\n",
       "        ('b', Datetime(time_unit='us', time_zone='UTC')),\n",
       "        ('D', Null)])"
      ]
     },
     "execution_count": 25,
     "metadata": {},
     "output_type": "execute_result"
    }
   ],
   "source": [
    "expected_df_7(library=\"polars\").schema"
   ]
  },
  {
   "cell_type": "code",
   "execution_count": 26,
   "metadata": {},
   "outputs": [
    {
     "data": {
      "text/plain": [
       "Schema([('a', Datetime(time_unit='us', time_zone='UTC')),\n",
       "        ('b', Datetime(time_unit='us', time_zone='UTC'))])"
      ]
     },
     "execution_count": 26,
     "metadata": {},
     "output_type": "execute_result"
    }
   ],
   "source": [
    "create_datediff_test_nulls_df(library=\"polars\").schema"
   ]
  },
  {
   "cell_type": "code",
   "execution_count": 31,
   "metadata": {},
   "outputs": [
    {
     "data": {
      "text/plain": [
       "Schema([('a', Datetime(time_unit='us', time_zone='UTC')),\n",
       "        ('b', Datetime(time_unit='us', time_zone='UTC')),\n",
       "        ('D', Float64)])"
      ]
     },
     "execution_count": 31,
     "metadata": {},
     "output_type": "execute_result"
    }
   ],
   "source": [
    "df_dict = {\n",
    "        \"a\": [\n",
    "            datetime.datetime(\n",
    "                1993,\n",
    "                9,\n",
    "                27,\n",
    "                11,\n",
    "                58,\n",
    "                58,\n",
    "                tzinfo=datetime.timezone.utc,\n",
    "            ),\n",
    "            None,\n",
    "        ],\n",
    "        \"b\": [\n",
    "            None,\n",
    "            datetime.datetime(\n",
    "                2019,\n",
    "                12,\n",
    "                25,\n",
    "                11,\n",
    "                58,\n",
    "                58,\n",
    "                tzinfo=datetime.timezone.utc,\n",
    "            ),\n",
    "        ],\n",
    "        \"D\": [\n",
    "            np.nan,\n",
    "            np.nan,\n",
    "        ],\n",
    "    }\n",
    "pl.DataFrame(df_dict,nan_to_null=True).schema"
   ]
  },
  {
   "cell_type": "code",
   "execution_count": null,
   "metadata": {},
   "outputs": [],
   "source": []
  }
 ],
 "metadata": {
  "kernelspec": {
   "display_name": "Python 3",
   "language": "python",
   "name": "python3"
  },
  "language_info": {
   "codemirror_mode": {
    "name": "ipython",
    "version": 3
   },
   "file_extension": ".py",
   "mimetype": "text/x-python",
   "name": "python",
   "nbconvert_exporter": "python",
   "pygments_lexer": "ipython3",
   "version": "3.9.17"
  }
 },
 "nbformat": 4,
 "nbformat_minor": 2
}
