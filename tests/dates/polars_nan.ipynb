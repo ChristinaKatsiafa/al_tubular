{
 "cells": [
  {
   "cell_type": "code",
   "execution_count": 3,
   "metadata": {},
   "outputs": [],
   "source": [
    "import numpy as np\n",
    "import polars as pl\n",
    "import datetime"
   ]
  },
  {
   "cell_type": "code",
   "execution_count": 21,
   "metadata": {},
   "outputs": [],
   "source": [
    "def expected_df_7(library=\"pandas\"):\n",
    "    \"\"\"Expected output for test_expected_output_nulls.\"\"\"\n",
    "\n",
    "    df_dict = {\n",
    "        \"a\": [\n",
    "            datetime.datetime(\n",
    "                1993,\n",
    "                9,\n",
    "                27,\n",
    "                11,\n",
    "                58,\n",
    "                58,\n",
    "                tzinfo=datetime.timezone.utc,\n",
    "            ),\n",
    "            np.nan if library == \"pandas\" else None,\n",
    "        ],\n",
    "        \"b\": [\n",
    "            np.nan if library == \"pandas\" else None,\n",
    "            datetime.datetime(\n",
    "                2019,\n",
    "                12,\n",
    "                25,\n",
    "                11,\n",
    "                58,\n",
    "                58,\n",
    "                tzinfo=datetime.timezone.utc,\n",
    "            ),\n",
    "        ],\n",
    "        \"D\": [\n",
    "            np.nan if library == \"pandas\" else None,\n",
    "            np.nan if library == \"pandas\" else None,\n",
    "        ],\n",
    "    }\n",
    "\n",
    "    return pl.DataFrame(df_dict)"
   ]
  },
  {
   "cell_type": "code",
   "execution_count": 23,
   "metadata": {},
   "outputs": [],
   "source": [
    "def create_datediff_test_nulls_df(library=\"pandas\"):\n",
    "    \"\"\"Create DataFrame with nulls only for DateDifferenceTransformer tests.\"\"\"\n",
    "\n",
    "    df_dict = {\n",
    "        \"a\": [\n",
    "            datetime.datetime(\n",
    "                1993,\n",
    "                9,\n",
    "                27,\n",
    "                11,\n",
    "                58,\n",
    "                58,\n",
    "                tzinfo=datetime.timezone.utc,\n",
    "            ),\n",
    "            np.nan if library == \"pandas\" else None,\n",
    "        ],\n",
    "        \"b\": [\n",
    "            np.nan if library == \"pandas\" else None,\n",
    "            datetime.datetime(\n",
    "                2019,\n",
    "                12,\n",
    "                25,\n",
    "                11,\n",
    "                58,\n",
    "                58,\n",
    "                tzinfo=datetime.timezone.utc,\n",
    "            ),\n",
    "        ],\n",
    "    }\n",
    "\n",
    "    return pl.DataFrame(df_dict)"
   ]
  },
  {
   "cell_type": "code",
   "execution_count": 25,
   "metadata": {},
   "outputs": [
    {
     "data": {
      "text/plain": [
       "Schema([('a', Datetime(time_unit='us', time_zone='UTC')),\n",
       "        ('b', Datetime(time_unit='us', time_zone='UTC')),\n",
       "        ('D', Null)])"
      ]
     },
     "execution_count": 25,
     "metadata": {},
     "output_type": "execute_result"
    }
   ],
   "source": [
    "expected_df_7(library=\"polars\").schema"
   ]
  },
  {
   "cell_type": "code",
   "execution_count": 26,
   "metadata": {},
   "outputs": [
    {
     "data": {
      "text/plain": [
       "Schema([('a', Datetime(time_unit='us', time_zone='UTC')),\n",
       "        ('b', Datetime(time_unit='us', time_zone='UTC'))])"
      ]
     },
     "execution_count": 26,
     "metadata": {},
     "output_type": "execute_result"
    }
   ],
   "source": [
    "create_datediff_test_nulls_df(library=\"polars\").schema"
   ]
  },
  {
   "cell_type": "code",
   "execution_count": 38,
   "metadata": {},
   "outputs": [
    {
     "data": {
      "text/plain": [
       "[Datetime(time_unit='us', time_zone='UTC'),\n",
       " Datetime(time_unit='us', time_zone='UTC'),\n",
       " Float64]"
      ]
     },
     "execution_count": 38,
     "metadata": {},
     "output_type": "execute_result"
    }
   ],
   "source": [
    "df_dict = {\n",
    "        \"a\": [\n",
    "            datetime.datetime(\n",
    "                1993,\n",
    "                9,\n",
    "                27,\n",
    "                11,\n",
    "                58,\n",
    "                58,\n",
    "                tzinfo=datetime.timezone.utc,\n",
    "            ),\n",
    "            None,\n",
    "        ],\n",
    "        \"b\": [\n",
    "            None,\n",
    "            datetime.datetime(\n",
    "                2019,\n",
    "                12,\n",
    "                25,\n",
    "                11,\n",
    "                58,\n",
    "                58,\n",
    "                tzinfo=datetime.timezone.utc,\n",
    "            ),\n",
    "        ],\n",
    "        \"D\": [\n",
    "            np.nan,\n",
    "            np.nan,\n",
    "        ],\n",
    "    }\n",
    "pl.DataFrame(df_dict).dtypes"
   ]
  },
  {
   "cell_type": "code",
   "execution_count": 39,
   "metadata": {},
   "outputs": [],
   "source": [
    "df = pl.DataFrame(df_dict)"
   ]
  },
  {
   "cell_type": "code",
   "execution_count": null,
   "metadata": {},
   "outputs": [
    {
     "data": {
      "text/html": [
       "<div><style>\n",
       ".dataframe > thead > tr,\n",
       ".dataframe > tbody > tr {\n",
       "  text-align: right;\n",
       "  white-space: pre-wrap;\n",
       "}\n",
       "</style>\n",
       "<small>shape: (2, 3)</small><table border=\"1\" class=\"dataframe\"><thead><tr><th>a</th><th>b</th><th>D</th></tr><tr><td>datetime[μs, UTC]</td><td>datetime[μs, UTC]</td><td>f32</td></tr></thead><tbody><tr><td>1993-09-27 11:58:58 UTC</td><td>null</td><td>NaN</td></tr><tr><td>null</td><td>2019-12-25 11:58:58 UTC</td><td>NaN</td></tr></tbody></table></div>"
      ],
      "text/plain": [
       "shape: (2, 3)\n",
       "┌─────────────────────────┬─────────────────────────┬─────┐\n",
       "│ a                       ┆ b                       ┆ D   │\n",
       "│ ---                     ┆ ---                     ┆ --- │\n",
       "│ datetime[μs, UTC]       ┆ datetime[μs, UTC]       ┆ f32 │\n",
       "╞═════════════════════════╪═════════════════════════╪═════╡\n",
       "│ 1993-09-27 11:58:58 UTC ┆ null                    ┆ NaN │\n",
       "│ null                    ┆ 2019-12-25 11:58:58 UTC ┆ NaN │\n",
       "└─────────────────────────┴─────────────────────────┴─────┘"
      ]
     },
     "execution_count": 42,
     "metadata": {},
     "output_type": "execute_result"
    }
   ],
   "source": [
    "df.cast({\"D\": pl.Float64})"
   ]
  },
  {
   "cell_type": "code",
   "execution_count": 43,
   "metadata": {},
   "outputs": [
    {
     "data": {
      "text/html": [
       "<div><style>\n",
       ".dataframe > thead > tr,\n",
       ".dataframe > tbody > tr {\n",
       "  text-align: right;\n",
       "  white-space: pre-wrap;\n",
       "}\n",
       "</style>\n",
       "<small>shape: (2, 3)</small><table border=\"1\" class=\"dataframe\"><thead><tr><th>a</th><th>b</th><th>D</th></tr><tr><td>datetime[μs, UTC]</td><td>datetime[μs, UTC]</td><td>f64</td></tr></thead><tbody><tr><td>1993-09-27 11:58:58 UTC</td><td>null</td><td>NaN</td></tr><tr><td>null</td><td>2019-12-25 11:58:58 UTC</td><td>NaN</td></tr></tbody></table></div>"
      ],
      "text/plain": [
       "shape: (2, 3)\n",
       "┌─────────────────────────┬─────────────────────────┬─────┐\n",
       "│ a                       ┆ b                       ┆ D   │\n",
       "│ ---                     ┆ ---                     ┆ --- │\n",
       "│ datetime[μs, UTC]       ┆ datetime[μs, UTC]       ┆ f64 │\n",
       "╞═════════════════════════╪═════════════════════════╪═════╡\n",
       "│ 1993-09-27 11:58:58 UTC ┆ null                    ┆ NaN │\n",
       "│ null                    ┆ 2019-12-25 11:58:58 UTC ┆ NaN │\n",
       "└─────────────────────────┴─────────────────────────┴─────┘"
      ]
     },
     "execution_count": 43,
     "metadata": {},
     "output_type": "execute_result"
    }
   ],
   "source": [
    "df"
   ]
  },
  {
   "cell_type": "code",
   "execution_count": null,
   "metadata": {},
   "outputs": [],
   "source": []
  }
 ],
 "metadata": {
  "kernelspec": {
   "display_name": "Python 3",
   "language": "python",
   "name": "python3"
  },
  "language_info": {
   "codemirror_mode": {
    "name": "ipython",
    "version": 3
   },
   "file_extension": ".py",
   "mimetype": "text/x-python",
   "name": "python",
   "nbconvert_exporter": "python",
   "pygments_lexer": "ipython3",
   "version": "3.9.17"
  }
 },
 "nbformat": 4,
 "nbformat_minor": 2
}
